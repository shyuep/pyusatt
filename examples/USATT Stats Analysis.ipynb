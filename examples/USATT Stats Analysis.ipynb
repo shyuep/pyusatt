{
 "cells": [
  {
   "cell_type": "code",
   "execution_count": 1,
   "id": "f38335b0-1fa4-4efd-badb-09028f45a75c",
   "metadata": {},
   "outputs": [],
   "source": [
    "from usatt import get_summary\n",
    "\n",
    "import seaborn as sns"
   ]
  },
  {
   "cell_type": "code",
   "execution_count": 2,
   "id": "edf7e978-f695-4922-b784-23aa0b8358fd",
   "metadata": {},
   "outputs": [
    {
     "name": "stderr",
     "output_type": "stream",
     "text": [
      "14it [00:09,  1.45it/s]                                                                                                                               \n"
     ]
    }
   ],
   "source": [
    "data = get_summary()"
   ]
  },
  {
   "cell_type": "code",
   "execution_count": 3,
   "id": "50ce0fe2-77f6-4ea7-be6b-0e1edd5d8f13",
   "metadata": {},
   "outputs": [
    {
     "data": {
      "text/html": [
       "<div>\n",
       "<style scoped>\n",
       "    .dataframe tbody tr th:only-of-type {\n",
       "        vertical-align: middle;\n",
       "    }\n",
       "\n",
       "    .dataframe tbody tr th {\n",
       "        vertical-align: top;\n",
       "    }\n",
       "\n",
       "    .dataframe thead th {\n",
       "        text-align: right;\n",
       "    }\n",
       "</style>\n",
       "<table border=\"1\" class=\"dataframe\">\n",
       "  <thead>\n",
       "    <tr style=\"text-align: right;\">\n",
       "      <th></th>\n",
       "      <th>First Name</th>\n",
       "      <th>Last Name</th>\n",
       "      <th>Location</th>\n",
       "      <th>Home Club</th>\n",
       "      <th>Tournament Rating</th>\n",
       "      <th>Last Played Tournament</th>\n",
       "      <th>League Rating</th>\n",
       "      <th>Last Played League</th>\n",
       "    </tr>\n",
       "    <tr>\n",
       "      <th>USATT#</th>\n",
       "      <th></th>\n",
       "      <th></th>\n",
       "      <th></th>\n",
       "      <th></th>\n",
       "      <th></th>\n",
       "      <th></th>\n",
       "      <th></th>\n",
       "      <th></th>\n",
       "    </tr>\n",
       "  </thead>\n",
       "  <tbody>\n",
       "    <tr>\n",
       "      <th>14365</th>\n",
       "      <td>Kalinikos</td>\n",
       "      <td>Kreanga</td>\n",
       "      <td>FN</td>\n",
       "      <td>NaN</td>\n",
       "      <td>2851</td>\n",
       "      <td>10/29/2023</td>\n",
       "      <td>0</td>\n",
       "      <td>NaN</td>\n",
       "    </tr>\n",
       "    <tr>\n",
       "      <th>21235</th>\n",
       "      <td>Petr</td>\n",
       "      <td>Korbel</td>\n",
       "      <td>FN</td>\n",
       "      <td>NaN</td>\n",
       "      <td>2797</td>\n",
       "      <td>10/29/2023</td>\n",
       "      <td>0</td>\n",
       "      <td>NaN</td>\n",
       "    </tr>\n",
       "    <tr>\n",
       "      <th>1166717</th>\n",
       "      <td>Daniel</td>\n",
       "      <td>Gorak</td>\n",
       "      <td>Tampa, FL</td>\n",
       "      <td>NaN</td>\n",
       "      <td>2796</td>\n",
       "      <td>10/29/2023</td>\n",
       "      <td>0</td>\n",
       "      <td>NaN</td>\n",
       "    </tr>\n",
       "    <tr>\n",
       "      <th>1165420</th>\n",
       "      <td>Lei</td>\n",
       "      <td>Kou</td>\n",
       "      <td>Milpitas, CA</td>\n",
       "      <td>Kou Lei Table Tennis Club</td>\n",
       "      <td>2790</td>\n",
       "      <td>10/29/2023</td>\n",
       "      <td>2816</td>\n",
       "      <td>08/28/2022</td>\n",
       "    </tr>\n",
       "    <tr>\n",
       "      <th>75821</th>\n",
       "      <td>Eugene (Zhen)</td>\n",
       "      <td>Wang</td>\n",
       "      <td>San Juan</td>\n",
       "      <td>NaN</td>\n",
       "      <td>2782</td>\n",
       "      <td>08/13/2023</td>\n",
       "      <td>0</td>\n",
       "      <td>NaN</td>\n",
       "    </tr>\n",
       "  </tbody>\n",
       "</table>\n",
       "</div>"
      ],
      "text/plain": [
       "            First Name Last Name      Location                  Home Club  \\\n",
       "USATT#                                                                      \n",
       "14365        Kalinikos   Kreanga            FN                        NaN   \n",
       "21235             Petr    Korbel            FN                        NaN   \n",
       "1166717         Daniel     Gorak     Tampa, FL                        NaN   \n",
       "1165420            Lei       Kou  Milpitas, CA  Kou Lei Table Tennis Club   \n",
       "75821    Eugene (Zhen)      Wang      San Juan                        NaN   \n",
       "\n",
       "         Tournament Rating Last Played Tournament  League Rating  \\\n",
       "USATT#                                                             \n",
       "14365                 2851             10/29/2023              0   \n",
       "21235                 2797             10/29/2023              0   \n",
       "1166717               2796             10/29/2023              0   \n",
       "1165420               2790             10/29/2023           2816   \n",
       "75821                 2782             08/13/2023              0   \n",
       "\n",
       "        Last Played League  \n",
       "USATT#                      \n",
       "14365                  NaN  \n",
       "21235                  NaN  \n",
       "1166717                NaN  \n",
       "1165420         08/28/2022  \n",
       "75821                  NaN  "
      ]
     },
     "execution_count": 3,
     "metadata": {},
     "output_type": "execute_result"
    }
   ],
   "source": [
    "data.head()"
   ]
  },
  {
   "cell_type": "code",
   "execution_count": 4,
   "id": "73c886a6-74c5-4c8a-98f7-eb6a2a24e262",
   "metadata": {},
   "outputs": [
    {
     "data": {
      "image/png": "[encoded data removed]",
      "text/plain": [
       "<Figure size 640x480 with 1 Axes>"
      ]
     },
     "metadata": {},
     "output_type": "display_data"
    }
   ],
   "source": [
    "# Plots the distribution of league and tournament ratings. We will only focus on ratings > 0.\n",
    "ax = sns.histplot(data=data[data[\"League Rating\"]>0], x=\"League Rating\")\n",
    "ax = sns.histplot(data=data[data[\"Tournament Rating\"]>0], x=\"Tournament Rating\")"
   ]
  },
  {
   "cell_type": "code",
   "execution_count": null,
   "id": "c4cf12ee-9d40-4e77-a655-7bdedf252956",
   "metadata": {},
   "outputs": [],
   "source": []
  }
 ],
 "metadata": {
  "kernelspec": {
   "display_name": "Python 3 (ipykernel)",
   "language": "python",
   "name": "python3"
  },
  "language_info": {
   "codemirror_mode": {
    "name": "ipython",
    "version": 3
   },
   "file_extension": ".py",
   "mimetype": "text/x-python",
   "name": "python",
   "nbconvert_exporter": "python",
   "pygments_lexer": "ipython3",
   "version": "3.11.5"
  }
 },
 "nbformat": 4,
 "nbformat_minor": 5
}
